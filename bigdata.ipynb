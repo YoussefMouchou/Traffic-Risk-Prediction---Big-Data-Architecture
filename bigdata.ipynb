{
 "cells": [
  {
   "cell_type": "code",
   "execution_count": 12,
   "metadata": {},
   "outputs": [],
   "source": [
    "import pandas as pd\n",
    "from sklearn.model_selection import train_test_split\n",
    "from sklearn.ensemble import RandomForestClassifier\n",
    "from sklearn.linear_model import LogisticRegression\n",
    "from sklearn.svm import SVC\n",
    "from sklearn.preprocessing import OneHotEncoder\n",
    "from sklearn.impute import SimpleImputer\n",
    "from sklearn.compose import ColumnTransformer\n",
    "from sklearn.pipeline import Pipeline\n",
    "from sklearn.metrics import accuracy_score, f1_score\n",
    "import warnings\n",
    "warnings.filterwarnings('ignore')"
   ]
  },
  {
   "cell_type": "code",
   "execution_count": 13,
   "metadata": {},
   "outputs": [
    {
     "data": {
      "text/html": [
       "<div>\n",
       "<style scoped>\n",
       "    .dataframe tbody tr th:only-of-type {\n",
       "        vertical-align: middle;\n",
       "    }\n",
       "\n",
       "    .dataframe tbody tr th {\n",
       "        vertical-align: top;\n",
       "    }\n",
       "\n",
       "    .dataframe thead th {\n",
       "        text-align: right;\n",
       "    }\n",
       "</style>\n",
       "<table border=\"1\" class=\"dataframe\">\n",
       "  <thead>\n",
       "    <tr style=\"text-align: right;\">\n",
       "      <th></th>\n",
       "      <th>Timestamp</th>\n",
       "      <th>Latitude</th>\n",
       "      <th>Longitude</th>\n",
       "      <th>Vehicle_Count</th>\n",
       "      <th>Traffic_Speed_kmh</th>\n",
       "      <th>Road_Occupancy_%</th>\n",
       "      <th>Traffic_Light_State</th>\n",
       "      <th>Weather_Condition</th>\n",
       "      <th>Accident_Report</th>\n",
       "      <th>Sentiment_Score</th>\n",
       "      <th>Ride_Sharing_Demand</th>\n",
       "      <th>Parking_Availability</th>\n",
       "      <th>Emission_Levels_g_km</th>\n",
       "      <th>Energy_Consumption_L_h</th>\n",
       "      <th>Traffic_Condition</th>\n",
       "    </tr>\n",
       "  </thead>\n",
       "  <tbody>\n",
       "    <tr>\n",
       "      <th>0</th>\n",
       "      <td>2024-03-01 00:00:00</td>\n",
       "      <td>40.842275</td>\n",
       "      <td>-73.703149</td>\n",
       "      <td>205</td>\n",
       "      <td>49.893435</td>\n",
       "      <td>82.652780</td>\n",
       "      <td>Yellow</td>\n",
       "      <td>Clear</td>\n",
       "      <td>0</td>\n",
       "      <td>-0.609199</td>\n",
       "      <td>2</td>\n",
       "      <td>45</td>\n",
       "      <td>450.760055</td>\n",
       "      <td>19.574337</td>\n",
       "      <td>High</td>\n",
       "    </tr>\n",
       "    <tr>\n",
       "      <th>1</th>\n",
       "      <td>2024-03-01 00:05:00</td>\n",
       "      <td>40.831119</td>\n",
       "      <td>-73.987354</td>\n",
       "      <td>202</td>\n",
       "      <td>22.383965</td>\n",
       "      <td>45.829298</td>\n",
       "      <td>Green</td>\n",
       "      <td>Clear</td>\n",
       "      <td>0</td>\n",
       "      <td>0.965442</td>\n",
       "      <td>16</td>\n",
       "      <td>1</td>\n",
       "      <td>321.800341</td>\n",
       "      <td>5.385554</td>\n",
       "      <td>High</td>\n",
       "    </tr>\n",
       "    <tr>\n",
       "      <th>2</th>\n",
       "      <td>2024-03-01 00:10:00</td>\n",
       "      <td>40.819549</td>\n",
       "      <td>-73.732462</td>\n",
       "      <td>252</td>\n",
       "      <td>46.889699</td>\n",
       "      <td>82.772465</td>\n",
       "      <td>Green</td>\n",
       "      <td>Rain</td>\n",
       "      <td>0</td>\n",
       "      <td>0.289660</td>\n",
       "      <td>16</td>\n",
       "      <td>49</td>\n",
       "      <td>231.152655</td>\n",
       "      <td>10.277477</td>\n",
       "      <td>High</td>\n",
       "    </tr>\n",
       "    <tr>\n",
       "      <th>3</th>\n",
       "      <td>2024-03-01 00:15:00</td>\n",
       "      <td>40.725849</td>\n",
       "      <td>-73.980134</td>\n",
       "      <td>37</td>\n",
       "      <td>5.730536</td>\n",
       "      <td>37.695567</td>\n",
       "      <td>Red</td>\n",
       "      <td>Fog</td>\n",
       "      <td>0</td>\n",
       "      <td>-0.271965</td>\n",
       "      <td>66</td>\n",
       "      <td>10</td>\n",
       "      <td>410.384292</td>\n",
       "      <td>29.243279</td>\n",
       "      <td>High</td>\n",
       "    </tr>\n",
       "    <tr>\n",
       "      <th>4</th>\n",
       "      <td>2024-03-01 00:20:00</td>\n",
       "      <td>40.813265</td>\n",
       "      <td>-73.961631</td>\n",
       "      <td>64</td>\n",
       "      <td>61.348034</td>\n",
       "      <td>22.313358</td>\n",
       "      <td>Red</td>\n",
       "      <td>Snow</td>\n",
       "      <td>0</td>\n",
       "      <td>-0.797606</td>\n",
       "      <td>3</td>\n",
       "      <td>5</td>\n",
       "      <td>364.466342</td>\n",
       "      <td>16.801459</td>\n",
       "      <td>Low</td>\n",
       "    </tr>\n",
       "  </tbody>\n",
       "</table>\n",
       "</div>"
      ],
      "text/plain": [
       "             Timestamp   Latitude  Longitude  Vehicle_Count  \\\n",
       "0  2024-03-01 00:00:00  40.842275 -73.703149            205   \n",
       "1  2024-03-01 00:05:00  40.831119 -73.987354            202   \n",
       "2  2024-03-01 00:10:00  40.819549 -73.732462            252   \n",
       "3  2024-03-01 00:15:00  40.725849 -73.980134             37   \n",
       "4  2024-03-01 00:20:00  40.813265 -73.961631             64   \n",
       "\n",
       "   Traffic_Speed_kmh  Road_Occupancy_% Traffic_Light_State Weather_Condition  \\\n",
       "0          49.893435         82.652780              Yellow             Clear   \n",
       "1          22.383965         45.829298               Green             Clear   \n",
       "2          46.889699         82.772465               Green              Rain   \n",
       "3           5.730536         37.695567                 Red               Fog   \n",
       "4          61.348034         22.313358                 Red              Snow   \n",
       "\n",
       "   Accident_Report  Sentiment_Score  Ride_Sharing_Demand  \\\n",
       "0                0        -0.609199                    2   \n",
       "1                0         0.965442                   16   \n",
       "2                0         0.289660                   16   \n",
       "3                0        -0.271965                   66   \n",
       "4                0        -0.797606                    3   \n",
       "\n",
       "   Parking_Availability  Emission_Levels_g_km  Energy_Consumption_L_h  \\\n",
       "0                    45            450.760055               19.574337   \n",
       "1                     1            321.800341                5.385554   \n",
       "2                    49            231.152655               10.277477   \n",
       "3                    10            410.384292               29.243279   \n",
       "4                     5            364.466342               16.801459   \n",
       "\n",
       "  Traffic_Condition  \n",
       "0              High  \n",
       "1              High  \n",
       "2              High  \n",
       "3              High  \n",
       "4               Low  "
      ]
     },
     "execution_count": 13,
     "metadata": {},
     "output_type": "execute_result"
    }
   ],
   "source": [
    "df=pd.read_csv('smart_mobility_dataset.csv')\n",
    "df.head()"
   ]
  },
  {
   "cell_type": "code",
   "execution_count": 14,
   "metadata": {},
   "outputs": [
    {
     "data": {
      "text/plain": [
       "Timestamp                 0\n",
       "Latitude                  0\n",
       "Longitude                 0\n",
       "Vehicle_Count             0\n",
       "Traffic_Speed_kmh         0\n",
       "Road_Occupancy_%          0\n",
       "Traffic_Light_State       0\n",
       "Weather_Condition         0\n",
       "Accident_Report           0\n",
       "Sentiment_Score           0\n",
       "Ride_Sharing_Demand       0\n",
       "Parking_Availability      0\n",
       "Emission_Levels_g_km      0\n",
       "Energy_Consumption_L_h    0\n",
       "Traffic_Condition         0\n",
       "dtype: int64"
      ]
     },
     "execution_count": 14,
     "metadata": {},
     "output_type": "execute_result"
    }
   ],
   "source": [
    "df.isna().sum()"
   ]
  },
  {
   "cell_type": "code",
   "execution_count": 15,
   "metadata": {},
   "outputs": [
    {
     "data": {
      "text/plain": [
       "<bound method DataFrame.info of                 Timestamp   Latitude  Longitude  Vehicle_Count  \\\n",
       "0     2024-03-01 00:00:00  40.842275 -73.703149            205   \n",
       "1     2024-03-01 00:05:00  40.831119 -73.987354            202   \n",
       "2     2024-03-01 00:10:00  40.819549 -73.732462            252   \n",
       "3     2024-03-01 00:15:00  40.725849 -73.980134             37   \n",
       "4     2024-03-01 00:20:00  40.813265 -73.961631             64   \n",
       "...                   ...        ...        ...            ...   \n",
       "4995  2024-03-18 08:15:00  40.604663 -73.831032            266   \n",
       "4996  2024-03-18 08:20:00  40.733790 -73.752213             20   \n",
       "4997  2024-03-18 08:25:00  40.821354 -73.759376             43   \n",
       "4998  2024-03-18 08:30:00  40.772343 -73.836698             88   \n",
       "4999  2024-03-18 08:35:00  40.756688 -73.849335            147   \n",
       "\n",
       "      Traffic_Speed_kmh  Road_Occupancy_% Traffic_Light_State  \\\n",
       "0             49.893435         82.652780              Yellow   \n",
       "1             22.383965         45.829298               Green   \n",
       "2             46.889699         82.772465               Green   \n",
       "3              5.730536         37.695567                 Red   \n",
       "4             61.348034         22.313358                 Red   \n",
       "...                 ...               ...                 ...   \n",
       "4995          22.987611         12.670629               Green   \n",
       "4996          75.736987         49.108556               Green   \n",
       "4997          59.492981         78.719110              Yellow   \n",
       "4998          25.901119         64.690719              Yellow   \n",
       "4999          51.473769         28.048376               Green   \n",
       "\n",
       "     Weather_Condition  Accident_Report  Sentiment_Score  Ride_Sharing_Demand  \\\n",
       "0                Clear                0        -0.609199                    2   \n",
       "1                Clear                0         0.965442                   16   \n",
       "2                 Rain                0         0.289660                   16   \n",
       "3                  Fog                0        -0.271965                   66   \n",
       "4                 Snow                0        -0.797606                    3   \n",
       "...                ...              ...              ...                  ...   \n",
       "4995              Rain                0         0.698929                   87   \n",
       "4996              Snow                0         0.742800                    5   \n",
       "4997             Clear                0         0.524574                   94   \n",
       "4998              Rain                0        -0.589902                   73   \n",
       "4999              Snow                0         0.569793                   93   \n",
       "\n",
       "      Parking_Availability  Emission_Levels_g_km  Energy_Consumption_L_h  \\\n",
       "0                       45            450.760055               19.574337   \n",
       "1                        1            321.800341                5.385554   \n",
       "2                       49            231.152655               10.277477   \n",
       "3                       10            410.384292               29.243279   \n",
       "4                        5            364.466342               16.801459   \n",
       "...                    ...                   ...                     ...   \n",
       "4995                    28            252.070807                7.511153   \n",
       "4996                     0            203.563872                6.681980   \n",
       "4997                    16             71.660296               25.267246   \n",
       "4998                     5            442.692618               29.467326   \n",
       "4999                    16            119.196815               25.065909   \n",
       "\n",
       "     Traffic_Condition  \n",
       "0                 High  \n",
       "1                 High  \n",
       "2                 High  \n",
       "3                 High  \n",
       "4                  Low  \n",
       "...                ...  \n",
       "4995              High  \n",
       "4996               Low  \n",
       "4997            Medium  \n",
       "4998            Medium  \n",
       "4999            Medium  \n",
       "\n",
       "[5000 rows x 15 columns]>"
      ]
     },
     "execution_count": 15,
     "metadata": {},
     "output_type": "execute_result"
    }
   ],
   "source": [
    "df.info"
   ]
  },
  {
   "cell_type": "code",
   "execution_count": 16,
   "metadata": {},
   "outputs": [],
   "source": [
    "df['hour'] = pd.to_datetime(df['Timestamp']).dt.hour\n",
    "df['is_weekend'] = pd.to_datetime(df['Timestamp']).dt.dayofweek.isin([5, 6]).astype(int)\n",
    "df = df.drop('Timestamp', axis=1)"
   ]
  },
  {
   "cell_type": "code",
   "execution_count": 17,
   "metadata": {},
   "outputs": [],
   "source": [
    "X = df.drop('Traffic_Condition', axis=1)  # Assuming Traffic_Condition is the target\n",
    "y = df['Traffic_Condition']"
   ]
  },
  {
   "cell_type": "code",
   "execution_count": 18,
   "metadata": {},
   "outputs": [],
   "source": [
    "X_train, X_test, y_train, y_test = train_test_split(X, y, test_size=0.3, random_state=42)"
   ]
  },
  {
   "cell_type": "code",
   "execution_count": 19,
   "metadata": {},
   "outputs": [],
   "source": [
    "numeric_cols = ['Vehicle_Count', 'Road_Occupancy_%']\n",
    "categorical_cols = ['Weather_Condition']"
   ]
  },
  {
   "cell_type": "code",
   "execution_count": 21,
   "metadata": {},
   "outputs": [],
   "source": [
    "preprocessor = ColumnTransformer(\n",
    "    transformers=[\n",
    "        ('num', SimpleImputer(strategy='mean'), numeric_cols),\n",
    "        ('cat', OneHotEncoder(drop='first', sparse_output=False), categorical_cols)\n",
    "    ])"
   ]
  },
  {
   "cell_type": "code",
   "execution_count": 22,
   "metadata": {},
   "outputs": [],
   "source": [
    "# Define multiple models in pipelines\n",
    "rf_pipeline = Pipeline([\n",
    "    ('preprocessor', preprocessor),\n",
    "    ('classifier', RandomForestClassifier(n_estimators=10, max_depth=5, random_state=42))\n",
    "])\n",
    "\n",
    "lr_pipeline = Pipeline([\n",
    "    ('preprocessor', preprocessor),\n",
    "    ('classifier', LogisticRegression(max_iter=1000, random_state=42))\n",
    "])\n",
    "\n",
    "svm_pipeline = Pipeline([\n",
    "    ('preprocessor', preprocessor),\n",
    "    ('classifier', SVC(kernel='linear', random_state=42))\n",
    "])"
   ]
  },
  {
   "cell_type": "code",
   "execution_count": 23,
   "metadata": {},
   "outputs": [],
   "source": [
    "pipelines = {\n",
    "    'Random Forest': rf_pipeline,\n",
    "    'Logistic Regression': lr_pipeline,\n",
    "    'Support Vector Machine': svm_pipeline\n",
    "}"
   ]
  },
  {
   "cell_type": "code",
   "execution_count": 26,
   "metadata": {},
   "outputs": [
    {
     "name": "stdout",
     "output_type": "stream",
     "text": [
      "\n",
      "Results for Random Forest:\n",
      "Accuracy: 0.8153\n",
      "F1 Score: 0.8274\n",
      "\n",
      "Results for Logistic Regression:\n",
      "Accuracy: 0.6833\n",
      "F1 Score: 0.6637\n",
      "\n",
      "Results for Support Vector Machine:\n",
      "Accuracy: 0.6907\n",
      "F1 Score: 0.6741\n"
     ]
    }
   ],
   "source": [
    "results = {}\n",
    "for name, pipeline in pipelines.items():\n",
    "    # Train\n",
    "    pipeline.fit(X_train, y_train)\n",
    "    \n",
    "    # Predict\n",
    "    y_pred = pipeline.predict(X_test)\n",
    "    \n",
    "    # Calculate metrics\n",
    "    accuracy = accuracy_score(y_test, y_pred)\n",
    "    f1 = f1_score(y_test, y_pred, average='weighted')\n",
    "    \n",
    "    # Store results\n",
    "    results[name] = {'Accuracy': accuracy, 'F1 Score': f1}\n",
    "    print(f\"\\nResults for {name}:\")\n",
    "    print(f\"Accuracy: {accuracy:.4f}\")\n",
    "    print(f\"F1 Score: {f1:.4f}\")"
   ]
  },
  {
   "cell_type": "code",
   "execution_count": 27,
   "metadata": {},
   "outputs": [
    {
     "name": "stdout",
     "output_type": "stream",
     "text": [
      "\n",
      "Best Model: Random Forest with F1 Score: 0.8274\n"
     ]
    }
   ],
   "source": [
    "best_model = max(results.items(), key=lambda x: x[1]['F1 Score'])\n",
    "print(f\"\\nBest Model: {best_model[0]} with F1 Score: {best_model[1]['F1 Score']:.4f}\")"
   ]
  }
 ],
 "metadata": {
  "kernelspec": {
   "display_name": "Python 3",
   "language": "python",
   "name": "python3"
  },
  "language_info": {
   "codemirror_mode": {
    "name": "ipython",
    "version": 3
   },
   "file_extension": ".py",
   "mimetype": "text/x-python",
   "name": "python",
   "nbconvert_exporter": "python",
   "pygments_lexer": "ipython3",
   "version": "3.11.9"
  }
 },
 "nbformat": 4,
 "nbformat_minor": 2
}
